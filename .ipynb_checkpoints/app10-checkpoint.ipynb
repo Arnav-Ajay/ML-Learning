{
 "cells": [
  {
   "cell_type": "markdown",
   "id": "engaged-determination",
   "metadata": {},
   "source": [
    "# Application Exercise 04\n",
    "## Python File I/O\n",
    "### Arnav Ajay : 500187172\n",
    "### Allwyn Fredy Dsouza : 500184570"
   ]
  },
  {
   "cell_type": "markdown",
   "id": "correct-newark",
   "metadata": {},
   "source": [
    "### 1. Create a file with your name and write to it this line:\n",
    "[Your name] created the first file using python 3."
   ]
  },
  {
   "cell_type": "code",
   "execution_count": 1,
   "id": "worse-frank",
   "metadata": {},
   "outputs": [],
   "source": [
    "def create_file(path, name):\n",
    "    \n",
    "    with open(path, 'w') as f:\n",
    "        f.write(name + ' created the first file using python 3.\\n')\n"
   ]
  },
  {
   "cell_type": "markdown",
   "id": "atomic-height",
   "metadata": {},
   "source": [
    "### 2. Open the pervious file in question 1, and add to it this line:\n",
    "Now , [your name] is adding a new data to the existing file."
   ]
  },
  {
   "cell_type": "code",
   "execution_count": 2,
   "id": "pressed-envelope",
   "metadata": {},
   "outputs": [],
   "source": [
    "def update_file(path, name):\n",
    "    with open(path, 'a') as f:\n",
    "        f.write('Now, ' + name + ' is adding a new data to the existing file.\\n')"
   ]
  },
  {
   "cell_type": "markdown",
   "id": "beneficial-surgeon",
   "metadata": {},
   "source": [
    "### 3. Read the data in the file you have created in questions 1, 2 and print it out."
   ]
  },
  {
   "cell_type": "code",
   "execution_count": 3,
   "id": "younger-transcription",
   "metadata": {},
   "outputs": [],
   "source": [
    "def read_file(path):\n",
    "    with open(path, 'r') as f:\n",
    "        data = f.read()\n",
    "        print('\\n', data)"
   ]
  },
  {
   "cell_type": "markdown",
   "id": "pressing-thursday",
   "metadata": {},
   "source": [
    "### 4. Create a new file and call it scores. Write to it a few scores from the user, then print them in list format."
   ]
  },
  {
   "cell_type": "code",
   "execution_count": 4,
   "id": "obvious-representative",
   "metadata": {},
   "outputs": [],
   "source": [
    "def create_scores(path):\n",
    "\n",
    "    scores = []\n",
    "    while True:\n",
    "        try:\n",
    "            n=int(input(\"Enter the number of scores : \"))\n",
    "            break\n",
    "        except Exception as e:\n",
    "            print(e)\n",
    "\n",
    "    for i in range(0,n):\n",
    "        while True:\n",
    "            try:\n",
    "                scores.append(int(input(\"Enter the \"+str(i+1)+\" score : \")))\n",
    "                break\n",
    "            except Exception as e:\n",
    "                print(e)      \n",
    "\n",
    "    with open(path, 'w') as f:\n",
    "        f.write(json.dumps(scores))\n",
    "\n",
    "    #Now read the file back into a Python list object\n",
    "    with open(path, 'r') as f:\n",
    "        scores = json.loads(f.read())\n",
    "\n",
    "        return scores"
   ]
  },
  {
   "cell_type": "markdown",
   "id": "genuine-packet",
   "metadata": {},
   "source": [
    "### 5. Create a new file and call it “ orders”. Write to it three lines each contains information about an order like this:\n",
    "\n",
    "1-56788-021 lenovo charger Raed Karim 01-03-2020\n",
    "\n",
    "1-99923-022 HP battery John MacQueen 12-03-2020\n",
    "\n",
    "1-23890-026 Sony HD Mary Donald 23-03-2020"
   ]
  },
  {
   "cell_type": "code",
   "execution_count": 5,
   "id": "average-synthetic",
   "metadata": {},
   "outputs": [],
   "source": [
    "def create_orders(path):\n",
    "    \n",
    "    textList=[\"1-56788-021 one plus charger Arnav Ajay 01-03-2020\",\\\n",
    "    \"1-99923-022 Asus battery Allwyn Dsouza 12-03-2020\",\\\n",
    "    \"1-23890-026 Sound Theater Jonny Depp 23-03-2020\"]\n",
    "\n",
    "\n",
    "    outF = open(path, \"w\")\n",
    "    for line in textList:\n",
    "      # write line to output file\n",
    "      outF.write(line + '\\n')\n",
    "        \n",
    "    outF.close()"
   ]
  },
  {
   "cell_type": "markdown",
   "id": "continuous-composite",
   "metadata": {},
   "source": [
    "### 6. Use with keyword to iterate through the lines in question 5 and print them out.\n",
    "Do your own SEARCH for this – using with"
   ]
  },
  {
   "cell_type": "code",
   "execution_count": 6,
   "id": "elementary-agent",
   "metadata": {},
   "outputs": [],
   "source": [
    "def get_order(path):\n",
    "    \n",
    "    lines = []\n",
    "    \n",
    "    with open(path, 'r') as f:\n",
    "        data = f.readlines()\n",
    "\n",
    "        for i in data: lines.append(i)\n",
    "            \n",
    "    return lines"
   ]
  },
  {
   "cell_type": "code",
   "execution_count": 7,
   "id": "laughing-graduate",
   "metadata": {},
   "outputs": [],
   "source": [
    "def search_order(path):\n",
    "    \n",
    "    search = input('Enter the order you want to search for : ')\n",
    "    \n",
    "    with open(path, 'r') as f:\n",
    "        data = f.readlines()\n",
    "\n",
    "        for i in data:\n",
    "            if search.lower() in i.lower():\n",
    "                print('\\n', i)\n",
    "                break\n",
    "        else: print('\\nNot found\\n')"
   ]
  },
  {
   "cell_type": "markdown",
   "id": "individual-bottom",
   "metadata": {},
   "source": [
    "### 7 Go to any online-shopping website and pick any reviews from customers.\n",
    "\n",
    "#### Copy them into a notepad to create a text file of a few lines ( e.g. 10 lines).\n",
    "\n",
    "#### Now, create a program that split each line into a list of words.\n",
    "\n",
    "#### In each list, I want you to remove any of the following words (stop words) like “the” “a” “is” “are” “she”, etc, then return the new lists."
   ]
  },
  {
   "cell_type": "code",
   "execution_count": 8,
   "id": "seasonal-fundamentals",
   "metadata": {},
   "outputs": [],
   "source": [
    "def create_review(path):\n",
    "    \n",
    "    text = 'The Marvel Cinematic Universe has always been bold.\\nDespite its frequent reliance on formula, its very existence - a series of storylines told across more than a decade’s worth of multiple interconnected movies - is unlike anything else.\\nIt should come as no surprise, then, that WandaVision is also bold and experimental.\\nAnd yet surprise it does: the MCU’s first true venture into television constantly morphs between surreal sitcom, puzzle box mystery, and superhero dramatics, indicating that Marvel’s confidence in a post-Endgame world remains strong.\\nFree to write its own rules, WandaVision goes to places few would have expected the world’s biggest popcorn franchise to explore, and more often than not its themes of the grief and love between Wanda Maximoff and Vision help it find its footing.\\n\\nThis is evident from the very first shot of the series.\\nFilmed in monochrome and 4:3 ratio, the opening chapter of WandaVision looks like a recovered relic from the 1950s instead of glossy superhero cinema.\\nRather than deal with explosive conflict, WandaVision places its titular duo - Elizabeth Olsen’s magic-wielding Wanda and Paul Bettany’s sentient android Vision - into loving homages of classic US sitcoms such as I Love Lucy and Bewitched.\\nWith each successive episode the time period advances, recreating the aesthetic and directorial style of shows like The Brady Bunch and Family Ties.\\nFrom multi-camera, live-audience set-ups to the energetic mockumentray formats of modern favourites, most episodes sport their own unique look and feel and tap into nostalgia for the classics - even among those of us who’ve only seen reruns.'\n",
    "    \n",
    "    with open(path, 'w') as f:\n",
    "        f.write(text)"
   ]
  },
  {
   "cell_type": "code",
   "execution_count": 9,
   "id": "disabled-alexandria",
   "metadata": {},
   "outputs": [],
   "source": [
    "def get_review_list(path, s_words):\n",
    "    \n",
    "    create_review(path)\n",
    "    \n",
    "    review_list = []\n",
    "    \n",
    "    with open(path, 'r') as f:\n",
    "        data = f.read()\n",
    "\n",
    "        data_list = data.lower().split()\n",
    "    \n",
    "        for word in s_words:\n",
    "            for corpus in data_list:\n",
    "                if corpus == word:\n",
    "                    data_list.remove(corpus)\n",
    "\n",
    "        for word in data_list:\n",
    "            review_list.append(word)\n",
    "\n",
    "    return review_list"
   ]
  },
  {
   "cell_type": "markdown",
   "id": "passing-drawing",
   "metadata": {},
   "source": [
    "### Main Function"
   ]
  },
  {
   "cell_type": "code",
   "execution_count": 17,
   "id": "toxic-friendly",
   "metadata": {},
   "outputs": [],
   "source": [
    "def main():\n",
    "    path_f1 = './test.txt'\n",
    "    path_f2 = './scores.txt'\n",
    "    path_f3 = './orders.txt'\n",
    "    path_f4 = './review.txt'    # to be created before running the program.\n",
    "    \n",
    "    stop_words = ['a', 'the', 'as', 'is', 'i', 'she', 'he', 'are', 'on', 'has', 'us', 'than',\n",
    "                  'its', 'to', 'in', '-', 'of', 'no', 'it', 'and', 'for', 'from', 'not']\n",
    "    \n",
    "    name = input('Please enter your name : ')\n",
    "    \n",
    "    # Question 1\n",
    "    create_file(path_f1, name)\n",
    "    \n",
    "    # Question 2\n",
    "    update_file(path_f1, name)\n",
    "    \n",
    "    # Question 3\n",
    "    read_file(path_f1)\n",
    "    \n",
    "    # Question 4\n",
    "    scores = create_scores(path_f2)\n",
    "    print('\\n', scores)\n",
    "    print('\\n')\n",
    "    \n",
    "    # Question 5\n",
    "    create_orders(path_f3)\n",
    "    \n",
    "    # Question 6\n",
    "    orders = get_order(path_f3)\n",
    "    \n",
    "    for i in orders: print(i)\n",
    "        \n",
    "    c = input('Do you want to search for any order? (y/any) : ')\n",
    "\n",
    "    while c == 'y':\n",
    "        search_order(path_f3)\n",
    "        \n",
    "        c = input('\\nDo you want to search for any order (y/any) : ')\n",
    "    \n",
    "    # Question 7\n",
    "    my_review_list = get_review_list(path_f4, stop_words)\n",
    "    print('\\n', my_review_list)"
   ]
  },
  {
   "cell_type": "markdown",
   "id": "moderate-lyric",
   "metadata": {},
   "source": [
    "### Output"
   ]
  },
  {
   "cell_type": "code",
   "execution_count": 14,
   "id": "tutorial-sucking",
   "metadata": {},
   "outputs": [
    {
     "name": "stdout",
     "output_type": "stream",
     "text": [
      "Please enter your name : arnav\n",
      "\n",
      " arnav created the first file using python 3.\n",
      "Now, arnav is adding a new data to the existing file.\n",
      "\n",
      "Enter the number of scores : 1\n",
      "Enter the 1 score : 1\n",
      "\n",
      " [1]\n",
      "1-56788-021 one plus charger Arnav Ajay 01-03-2020\n",
      "\n",
      "1-99923-022 Asus battery Allwyn Dzousa 12-03-2020\n",
      "\n",
      "1-23890-026 Sound Theater Jonny Depp 23-03-2020\n",
      "\n",
      "Do you want to search for any order? (y/n) : y\n",
      "Enter the order you want to search for : 12\n",
      "\n",
      " 1-99923-022 Asus battery Allwyn Dzousa 12-03-2020\n",
      "\n",
      "\n",
      "Do you want to search for any order (y/n) : asus\n",
      "\n",
      " ['marvel', 'cinematic', 'universe', 'always', 'been', 'bold.', 'despite', 'frequent', 'reliance', 'formula,', 'very', 'existence', 'series', 'storylines', 'told', 'across', 'more', 'decade’s', 'worth', 'multiple', 'interconnected', 'movies', 'unlike', 'anything', 'else.', 'should', 'come', 'surprise,', 'then,', 'that', 'wandavision', 'also', 'bold', 'experimental.', 'yet', 'surprise', 'does:', 'mcu’s', 'first', 'true', 'venture', 'into', 'television', 'constantly', 'morphs', 'between', 'surreal', 'sitcom,', 'puzzle', 'box', 'mystery,', 'superhero', 'dramatics,', 'indicating', 'that', 'marvel’s', 'confidence', 'post-endgame', 'world', 'remains', 'strong.', 'free', 'write', 'own', 'rules,', 'wandavision', 'goes', 'places', 'few', 'would', 'have', 'expected', 'world’s', 'biggest', 'popcorn', 'franchise', 'explore,', 'more', 'often', 'themes', 'grief', 'love', 'between', 'wanda', 'maximoff', 'vision', 'help', 'find', 'footing.', 'this', 'evident', 'very', 'first', 'shot', 'series.', 'filmed', 'monochrome', '4:3', 'ratio,', 'opening', 'chapter', 'wandavision', 'looks', 'like', 'recovered', 'relic', '1950s', 'instead', 'glossy', 'superhero', 'cinema.', 'rather', 'deal', 'with', 'explosive', 'conflict,', 'wandavision', 'places', 'titular', 'duo', 'elizabeth', 'olsen’s', 'magic-wielding', 'wanda', 'paul', 'bettany’s', 'sentient', 'android', 'vision', 'into', 'loving', 'homages', 'classic', 'sitcoms', 'such', 'love', 'lucy', 'bewitched.', 'with', 'each', 'successive', 'episode', 'time', 'period', 'advances,', 'recreating', 'aesthetic', 'directorial', 'style', 'shows', 'like', 'brady', 'bunch', 'family', 'ties.', 'multi-camera,', 'live-audience', 'set-ups', 'energetic', 'mockumentray', 'formats', 'modern', 'favourites,', 'most', 'episodes', 'sport', 'their', 'own', 'unique', 'look', 'feel', 'tap', 'into', 'nostalgia', 'classics', 'even', 'among', 'those', 'who’ve', 'only', 'seen', 'reruns.']\n"
     ]
    }
   ],
   "source": [
    "import json\n",
    "\n",
    "main()"
   ]
  }
 ],
 "metadata": {
  "kernelspec": {
   "display_name": "Python 3",
   "language": "python",
   "name": "python3"
  },
  "language_info": {
   "codemirror_mode": {
    "name": "ipython",
    "version": 3
   },
   "file_extension": ".py",
   "mimetype": "text/x-python",
   "name": "python",
   "nbconvert_exporter": "python",
   "pygments_lexer": "ipython3",
   "version": "3.7.9"
  }
 },
 "nbformat": 4,
 "nbformat_minor": 5
}
